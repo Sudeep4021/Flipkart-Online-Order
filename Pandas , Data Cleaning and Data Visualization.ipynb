{
 "cells": [
  {
   "cell_type": "code",
   "execution_count": 58,
   "metadata": {},
   "outputs": [],
   "source": [
    "import pandas as pd\n",
    "import numpy as np\n",
    "import seaborn as sns\n",
    "import re\n",
    "import matplotlib.pyplot as plt\n",
    "%matplotlib inline"
   ]
  },
  {
   "cell_type": "markdown",
   "metadata": {},
   "source": [
    "### Loading the Data to Pandas"
   ]
  },
  {
   "cell_type": "code",
   "execution_count": 130,
   "metadata": {},
   "outputs": [],
   "source": [
    "flipkart_data = pd.read_csv(\"OnlineOrders_of_a_ecommerce_website.csv\")"
   ]
  },
  {
   "cell_type": "code",
   "execution_count": 131,
   "metadata": {},
   "outputs": [
    {
     "data": {
      "text/html": [
       "<div>\n",
       "<style scoped>\n",
       "    .dataframe tbody tr th:only-of-type {\n",
       "        vertical-align: middle;\n",
       "    }\n",
       "\n",
       "    .dataframe tbody tr th {\n",
       "        vertical-align: top;\n",
       "    }\n",
       "\n",
       "    .dataframe thead th {\n",
       "        text-align: right;\n",
       "    }\n",
       "</style>\n",
       "<table border=\"1\" class=\"dataframe\">\n",
       "  <thead>\n",
       "    <tr style=\"text-align: right;\">\n",
       "      <th></th>\n",
       "      <th>crawl_timestamp</th>\n",
       "      <th>product_name</th>\n",
       "      <th>product_category_tree</th>\n",
       "      <th>retail_price</th>\n",
       "      <th>discounted_price</th>\n",
       "      <th>brand</th>\n",
       "    </tr>\n",
       "  </thead>\n",
       "  <tbody>\n",
       "    <tr>\n",
       "      <th>0</th>\n",
       "      <td>2016-03-25 22:59:23+00:00</td>\n",
       "      <td>Alisha Solid Women's Cycling Shorts</td>\n",
       "      <td>[\"Clothing &gt;&gt; Women's Clothing &gt;&gt; Lingerie, Sl...</td>\n",
       "      <td>999.0</td>\n",
       "      <td>379.0</td>\n",
       "      <td>Alisha</td>\n",
       "    </tr>\n",
       "    <tr>\n",
       "      <th>1</th>\n",
       "      <td>2016-03-25 22:59:23+00:00</td>\n",
       "      <td>FabHomeDecor Fabric Double Sofa Bed</td>\n",
       "      <td>[\"Furniture &gt;&gt; Living Room Furniture &gt;&gt; Sofa B...</td>\n",
       "      <td>32157.0</td>\n",
       "      <td>22646.0</td>\n",
       "      <td>FabHomeDecor</td>\n",
       "    </tr>\n",
       "    <tr>\n",
       "      <th>2</th>\n",
       "      <td>2016-03-25 22:59:23+00:00</td>\n",
       "      <td>AW Bellies</td>\n",
       "      <td>[\"Footwear &gt;&gt; Women's Footwear &gt;&gt; Ballerinas &gt;...</td>\n",
       "      <td>999.0</td>\n",
       "      <td>499.0</td>\n",
       "      <td>AW</td>\n",
       "    </tr>\n",
       "    <tr>\n",
       "      <th>3</th>\n",
       "      <td>2016-03-25 22:59:23+00:00</td>\n",
       "      <td>Alisha Solid Women's Cycling Shorts</td>\n",
       "      <td>[\"Clothing &gt;&gt; Women's Clothing &gt;&gt; Lingerie, Sl...</td>\n",
       "      <td>699.0</td>\n",
       "      <td>267.0</td>\n",
       "      <td>Alisha</td>\n",
       "    </tr>\n",
       "    <tr>\n",
       "      <th>4</th>\n",
       "      <td>2016-03-25 22:59:23+00:00</td>\n",
       "      <td>Sicons All Purpose Arnica Dog Shampoo</td>\n",
       "      <td>[\"Pet Supplies &gt;&gt; Grooming &gt;&gt; Skin &amp; Coat Care...</td>\n",
       "      <td>220.0</td>\n",
       "      <td>210.0</td>\n",
       "      <td>Sicons</td>\n",
       "    </tr>\n",
       "  </tbody>\n",
       "</table>\n",
       "</div>"
      ],
      "text/plain": [
       "             crawl_timestamp                           product_name  \\\n",
       "0  2016-03-25 22:59:23+00:00    Alisha Solid Women's Cycling Shorts   \n",
       "1  2016-03-25 22:59:23+00:00    FabHomeDecor Fabric Double Sofa Bed   \n",
       "2  2016-03-25 22:59:23+00:00                             AW Bellies   \n",
       "3  2016-03-25 22:59:23+00:00    Alisha Solid Women's Cycling Shorts   \n",
       "4  2016-03-25 22:59:23+00:00  Sicons All Purpose Arnica Dog Shampoo   \n",
       "\n",
       "                               product_category_tree  retail_price  \\\n",
       "0  [\"Clothing >> Women's Clothing >> Lingerie, Sl...         999.0   \n",
       "1  [\"Furniture >> Living Room Furniture >> Sofa B...       32157.0   \n",
       "2  [\"Footwear >> Women's Footwear >> Ballerinas >...         999.0   \n",
       "3  [\"Clothing >> Women's Clothing >> Lingerie, Sl...         699.0   \n",
       "4  [\"Pet Supplies >> Grooming >> Skin & Coat Care...         220.0   \n",
       "\n",
       "   discounted_price         brand  \n",
       "0             379.0        Alisha  \n",
       "1           22646.0  FabHomeDecor  \n",
       "2             499.0            AW  \n",
       "3             267.0        Alisha  \n",
       "4             210.0        Sicons  "
      ]
     },
     "execution_count": 131,
     "metadata": {},
     "output_type": "execute_result"
    }
   ],
   "source": [
    "flipkart_data.head()"
   ]
  },
  {
   "cell_type": "markdown",
   "metadata": {},
   "source": [
    "This Dataset content E-Commerce data with the date and time in which they have ordered.\n",
    "As this a simple dataset, It has done to test your skills on pandas and data visualization. As the dataset is a bit messy\n",
    "and not smooth, our goal is to make it clean and organized for data visualization. It is the first step to become \n",
    "a Data Scientist i.e., you have to work on data cleaning"
   ]
  },
  {
   "cell_type": "markdown",
   "metadata": {},
   "source": [
    "#### First, Giving proper column names "
   ]
  },
  {
   "cell_type": "code",
   "execution_count": 132,
   "metadata": {},
   "outputs": [],
   "source": [
    "flipkart_data.rename(columns={'crawl_timestamp': 'Timestamp',\n",
    "                              'product_name': 'Product_Name',\n",
    "                             'product_category_tree': 'Product_Category_Tree',\n",
    "                             'retail_price': 'Retail_Price',\n",
    "                             'discounted_price': 'Discounted_Price',\n",
    "                             'brand': 'Brand'}, inplace=True)"
   ]
  },
  {
   "cell_type": "code",
   "execution_count": 133,
   "metadata": {},
   "outputs": [
    {
     "data": {
      "text/html": [
       "<div>\n",
       "<style scoped>\n",
       "    .dataframe tbody tr th:only-of-type {\n",
       "        vertical-align: middle;\n",
       "    }\n",
       "\n",
       "    .dataframe tbody tr th {\n",
       "        vertical-align: top;\n",
       "    }\n",
       "\n",
       "    .dataframe thead th {\n",
       "        text-align: right;\n",
       "    }\n",
       "</style>\n",
       "<table border=\"1\" class=\"dataframe\">\n",
       "  <thead>\n",
       "    <tr style=\"text-align: right;\">\n",
       "      <th></th>\n",
       "      <th>Timestamp</th>\n",
       "      <th>Product_Name</th>\n",
       "      <th>Product_Category_Tree</th>\n",
       "      <th>Retail_Price</th>\n",
       "      <th>Discounted_Price</th>\n",
       "      <th>Brand</th>\n",
       "    </tr>\n",
       "  </thead>\n",
       "  <tbody>\n",
       "    <tr>\n",
       "      <th>0</th>\n",
       "      <td>2016-03-25 22:59:23+00:00</td>\n",
       "      <td>Alisha Solid Women's Cycling Shorts</td>\n",
       "      <td>[\"Clothing &gt;&gt; Women's Clothing &gt;&gt; Lingerie, Sl...</td>\n",
       "      <td>999.0</td>\n",
       "      <td>379.0</td>\n",
       "      <td>Alisha</td>\n",
       "    </tr>\n",
       "    <tr>\n",
       "      <th>1</th>\n",
       "      <td>2016-03-25 22:59:23+00:00</td>\n",
       "      <td>FabHomeDecor Fabric Double Sofa Bed</td>\n",
       "      <td>[\"Furniture &gt;&gt; Living Room Furniture &gt;&gt; Sofa B...</td>\n",
       "      <td>32157.0</td>\n",
       "      <td>22646.0</td>\n",
       "      <td>FabHomeDecor</td>\n",
       "    </tr>\n",
       "    <tr>\n",
       "      <th>2</th>\n",
       "      <td>2016-03-25 22:59:23+00:00</td>\n",
       "      <td>AW Bellies</td>\n",
       "      <td>[\"Footwear &gt;&gt; Women's Footwear &gt;&gt; Ballerinas &gt;...</td>\n",
       "      <td>999.0</td>\n",
       "      <td>499.0</td>\n",
       "      <td>AW</td>\n",
       "    </tr>\n",
       "    <tr>\n",
       "      <th>3</th>\n",
       "      <td>2016-03-25 22:59:23+00:00</td>\n",
       "      <td>Alisha Solid Women's Cycling Shorts</td>\n",
       "      <td>[\"Clothing &gt;&gt; Women's Clothing &gt;&gt; Lingerie, Sl...</td>\n",
       "      <td>699.0</td>\n",
       "      <td>267.0</td>\n",
       "      <td>Alisha</td>\n",
       "    </tr>\n",
       "    <tr>\n",
       "      <th>4</th>\n",
       "      <td>2016-03-25 22:59:23+00:00</td>\n",
       "      <td>Sicons All Purpose Arnica Dog Shampoo</td>\n",
       "      <td>[\"Pet Supplies &gt;&gt; Grooming &gt;&gt; Skin &amp; Coat Care...</td>\n",
       "      <td>220.0</td>\n",
       "      <td>210.0</td>\n",
       "      <td>Sicons</td>\n",
       "    </tr>\n",
       "  </tbody>\n",
       "</table>\n",
       "</div>"
      ],
      "text/plain": [
       "                   Timestamp                           Product_Name  \\\n",
       "0  2016-03-25 22:59:23+00:00    Alisha Solid Women's Cycling Shorts   \n",
       "1  2016-03-25 22:59:23+00:00    FabHomeDecor Fabric Double Sofa Bed   \n",
       "2  2016-03-25 22:59:23+00:00                             AW Bellies   \n",
       "3  2016-03-25 22:59:23+00:00    Alisha Solid Women's Cycling Shorts   \n",
       "4  2016-03-25 22:59:23+00:00  Sicons All Purpose Arnica Dog Shampoo   \n",
       "\n",
       "                               Product_Category_Tree  Retail_Price  \\\n",
       "0  [\"Clothing >> Women's Clothing >> Lingerie, Sl...         999.0   \n",
       "1  [\"Furniture >> Living Room Furniture >> Sofa B...       32157.0   \n",
       "2  [\"Footwear >> Women's Footwear >> Ballerinas >...         999.0   \n",
       "3  [\"Clothing >> Women's Clothing >> Lingerie, Sl...         699.0   \n",
       "4  [\"Pet Supplies >> Grooming >> Skin & Coat Care...         220.0   \n",
       "\n",
       "   Discounted_Price         Brand  \n",
       "0             379.0        Alisha  \n",
       "1           22646.0  FabHomeDecor  \n",
       "2             499.0            AW  \n",
       "3             267.0        Alisha  \n",
       "4             210.0        Sicons  "
      ]
     },
     "execution_count": 133,
     "metadata": {},
     "output_type": "execute_result"
    }
   ],
   "source": [
    "flipkart_data.head()"
   ]
  },
  {
   "cell_type": "markdown",
   "metadata": {},
   "source": [
    "As we can see Product Category Tree column is not organised. So first make that\n",
    "column as category and extract the category name from it. Also we don't \n",
    "want need the whole information.\n",
    "\n",
    "As it have squared barckets and right arrow signs it look complex and confused structure. But break the things and watch carefully, the first word of the string is needed to fulfill our requirment.\n",
    "\n",
    "So lets do it "
   ]
  },
  {
   "cell_type": "code",
   "execution_count": 134,
   "metadata": {},
   "outputs": [],
   "source": [
    "\n",
    "flipkart_data['Category'] = flipkart_data['Product_Category_Tree'].apply(lambda x: re.split('\\[]*|\\\"|\\>>|\\,', x)[2])"
   ]
  },
  {
   "cell_type": "markdown",
   "metadata": {},
   "source": [
    "#### So we successfully added a new column as category"
   ]
  },
  {
   "cell_type": "code",
   "execution_count": 135,
   "metadata": {},
   "outputs": [
    {
     "data": {
      "text/html": [
       "<div>\n",
       "<style scoped>\n",
       "    .dataframe tbody tr th:only-of-type {\n",
       "        vertical-align: middle;\n",
       "    }\n",
       "\n",
       "    .dataframe tbody tr th {\n",
       "        vertical-align: top;\n",
       "    }\n",
       "\n",
       "    .dataframe thead th {\n",
       "        text-align: right;\n",
       "    }\n",
       "</style>\n",
       "<table border=\"1\" class=\"dataframe\">\n",
       "  <thead>\n",
       "    <tr style=\"text-align: right;\">\n",
       "      <th></th>\n",
       "      <th>Timestamp</th>\n",
       "      <th>Product_Name</th>\n",
       "      <th>Product_Category_Tree</th>\n",
       "      <th>Retail_Price</th>\n",
       "      <th>Discounted_Price</th>\n",
       "      <th>Brand</th>\n",
       "      <th>Category</th>\n",
       "    </tr>\n",
       "  </thead>\n",
       "  <tbody>\n",
       "    <tr>\n",
       "      <th>0</th>\n",
       "      <td>2016-03-25 22:59:23+00:00</td>\n",
       "      <td>Alisha Solid Women's Cycling Shorts</td>\n",
       "      <td>[\"Clothing &gt;&gt; Women's Clothing &gt;&gt; Lingerie, Sl...</td>\n",
       "      <td>999.0</td>\n",
       "      <td>379.0</td>\n",
       "      <td>Alisha</td>\n",
       "      <td>Clothing</td>\n",
       "    </tr>\n",
       "    <tr>\n",
       "      <th>1</th>\n",
       "      <td>2016-03-25 22:59:23+00:00</td>\n",
       "      <td>FabHomeDecor Fabric Double Sofa Bed</td>\n",
       "      <td>[\"Furniture &gt;&gt; Living Room Furniture &gt;&gt; Sofa B...</td>\n",
       "      <td>32157.0</td>\n",
       "      <td>22646.0</td>\n",
       "      <td>FabHomeDecor</td>\n",
       "      <td>Furniture</td>\n",
       "    </tr>\n",
       "    <tr>\n",
       "      <th>2</th>\n",
       "      <td>2016-03-25 22:59:23+00:00</td>\n",
       "      <td>AW Bellies</td>\n",
       "      <td>[\"Footwear &gt;&gt; Women's Footwear &gt;&gt; Ballerinas &gt;...</td>\n",
       "      <td>999.0</td>\n",
       "      <td>499.0</td>\n",
       "      <td>AW</td>\n",
       "      <td>Footwear</td>\n",
       "    </tr>\n",
       "    <tr>\n",
       "      <th>3</th>\n",
       "      <td>2016-03-25 22:59:23+00:00</td>\n",
       "      <td>Alisha Solid Women's Cycling Shorts</td>\n",
       "      <td>[\"Clothing &gt;&gt; Women's Clothing &gt;&gt; Lingerie, Sl...</td>\n",
       "      <td>699.0</td>\n",
       "      <td>267.0</td>\n",
       "      <td>Alisha</td>\n",
       "      <td>Clothing</td>\n",
       "    </tr>\n",
       "    <tr>\n",
       "      <th>4</th>\n",
       "      <td>2016-03-25 22:59:23+00:00</td>\n",
       "      <td>Sicons All Purpose Arnica Dog Shampoo</td>\n",
       "      <td>[\"Pet Supplies &gt;&gt; Grooming &gt;&gt; Skin &amp; Coat Care...</td>\n",
       "      <td>220.0</td>\n",
       "      <td>210.0</td>\n",
       "      <td>Sicons</td>\n",
       "      <td>Pet Supplies</td>\n",
       "    </tr>\n",
       "  </tbody>\n",
       "</table>\n",
       "</div>"
      ],
      "text/plain": [
       "                   Timestamp                           Product_Name  \\\n",
       "0  2016-03-25 22:59:23+00:00    Alisha Solid Women's Cycling Shorts   \n",
       "1  2016-03-25 22:59:23+00:00    FabHomeDecor Fabric Double Sofa Bed   \n",
       "2  2016-03-25 22:59:23+00:00                             AW Bellies   \n",
       "3  2016-03-25 22:59:23+00:00    Alisha Solid Women's Cycling Shorts   \n",
       "4  2016-03-25 22:59:23+00:00  Sicons All Purpose Arnica Dog Shampoo   \n",
       "\n",
       "                               Product_Category_Tree  Retail_Price  \\\n",
       "0  [\"Clothing >> Women's Clothing >> Lingerie, Sl...         999.0   \n",
       "1  [\"Furniture >> Living Room Furniture >> Sofa B...       32157.0   \n",
       "2  [\"Footwear >> Women's Footwear >> Ballerinas >...         999.0   \n",
       "3  [\"Clothing >> Women's Clothing >> Lingerie, Sl...         699.0   \n",
       "4  [\"Pet Supplies >> Grooming >> Skin & Coat Care...         220.0   \n",
       "\n",
       "   Discounted_Price         Brand       Category  \n",
       "0             379.0        Alisha      Clothing   \n",
       "1           22646.0  FabHomeDecor     Furniture   \n",
       "2             499.0            AW      Footwear   \n",
       "3             267.0        Alisha      Clothing   \n",
       "4             210.0        Sicons  Pet Supplies   "
      ]
     },
     "execution_count": 135,
     "metadata": {},
     "output_type": "execute_result"
    }
   ],
   "source": [
    "flipkart_data.head(5)"
   ]
  },
  {
   "cell_type": "markdown",
   "metadata": {},
   "source": [
    "#### Removing  Product_Category_Tree Column"
   ]
  },
  {
   "cell_type": "code",
   "execution_count": 136,
   "metadata": {},
   "outputs": [],
   "source": [
    "flipkart_data.drop(['Product_Category_Tree'], axis = 1, inplace= True)"
   ]
  },
  {
   "cell_type": "code",
   "execution_count": 137,
   "metadata": {},
   "outputs": [
    {
     "data": {
      "text/html": [
       "<div>\n",
       "<style scoped>\n",
       "    .dataframe tbody tr th:only-of-type {\n",
       "        vertical-align: middle;\n",
       "    }\n",
       "\n",
       "    .dataframe tbody tr th {\n",
       "        vertical-align: top;\n",
       "    }\n",
       "\n",
       "    .dataframe thead th {\n",
       "        text-align: right;\n",
       "    }\n",
       "</style>\n",
       "<table border=\"1\" class=\"dataframe\">\n",
       "  <thead>\n",
       "    <tr style=\"text-align: right;\">\n",
       "      <th></th>\n",
       "      <th>Timestamp</th>\n",
       "      <th>Product_Name</th>\n",
       "      <th>Retail_Price</th>\n",
       "      <th>Discounted_Price</th>\n",
       "      <th>Brand</th>\n",
       "      <th>Category</th>\n",
       "    </tr>\n",
       "  </thead>\n",
       "  <tbody>\n",
       "    <tr>\n",
       "      <th>0</th>\n",
       "      <td>2016-03-25 22:59:23+00:00</td>\n",
       "      <td>Alisha Solid Women's Cycling Shorts</td>\n",
       "      <td>999.0</td>\n",
       "      <td>379.0</td>\n",
       "      <td>Alisha</td>\n",
       "      <td>Clothing</td>\n",
       "    </tr>\n",
       "    <tr>\n",
       "      <th>1</th>\n",
       "      <td>2016-03-25 22:59:23+00:00</td>\n",
       "      <td>FabHomeDecor Fabric Double Sofa Bed</td>\n",
       "      <td>32157.0</td>\n",
       "      <td>22646.0</td>\n",
       "      <td>FabHomeDecor</td>\n",
       "      <td>Furniture</td>\n",
       "    </tr>\n",
       "    <tr>\n",
       "      <th>2</th>\n",
       "      <td>2016-03-25 22:59:23+00:00</td>\n",
       "      <td>AW Bellies</td>\n",
       "      <td>999.0</td>\n",
       "      <td>499.0</td>\n",
       "      <td>AW</td>\n",
       "      <td>Footwear</td>\n",
       "    </tr>\n",
       "    <tr>\n",
       "      <th>3</th>\n",
       "      <td>2016-03-25 22:59:23+00:00</td>\n",
       "      <td>Alisha Solid Women's Cycling Shorts</td>\n",
       "      <td>699.0</td>\n",
       "      <td>267.0</td>\n",
       "      <td>Alisha</td>\n",
       "      <td>Clothing</td>\n",
       "    </tr>\n",
       "    <tr>\n",
       "      <th>4</th>\n",
       "      <td>2016-03-25 22:59:23+00:00</td>\n",
       "      <td>Sicons All Purpose Arnica Dog Shampoo</td>\n",
       "      <td>220.0</td>\n",
       "      <td>210.0</td>\n",
       "      <td>Sicons</td>\n",
       "      <td>Pet Supplies</td>\n",
       "    </tr>\n",
       "  </tbody>\n",
       "</table>\n",
       "</div>"
      ],
      "text/plain": [
       "                   Timestamp                           Product_Name  \\\n",
       "0  2016-03-25 22:59:23+00:00    Alisha Solid Women's Cycling Shorts   \n",
       "1  2016-03-25 22:59:23+00:00    FabHomeDecor Fabric Double Sofa Bed   \n",
       "2  2016-03-25 22:59:23+00:00                             AW Bellies   \n",
       "3  2016-03-25 22:59:23+00:00    Alisha Solid Women's Cycling Shorts   \n",
       "4  2016-03-25 22:59:23+00:00  Sicons All Purpose Arnica Dog Shampoo   \n",
       "\n",
       "   Retail_Price  Discounted_Price         Brand       Category  \n",
       "0         999.0             379.0        Alisha      Clothing   \n",
       "1       32157.0           22646.0  FabHomeDecor     Furniture   \n",
       "2         999.0             499.0            AW      Footwear   \n",
       "3         699.0             267.0        Alisha      Clothing   \n",
       "4         220.0             210.0        Sicons  Pet Supplies   "
      ]
     },
     "execution_count": 137,
     "metadata": {},
     "output_type": "execute_result"
    }
   ],
   "source": [
    "flipkart_data.head()"
   ]
  },
  {
   "cell_type": "markdown",
   "metadata": {},
   "source": [
    "#### Removing unnecessary Zero(Milliseconds) from Timestamp "
   ]
  },
  {
   "cell_type": "code",
   "execution_count": 160,
   "metadata": {},
   "outputs": [],
   "source": [
    "flipkart_data['Timestamp'] = flipkart_data['Timestamp'].apply(lambda x: x.split('+')[0])"
   ]
  },
  {
   "cell_type": "code",
   "execution_count": 161,
   "metadata": {},
   "outputs": [
    {
     "data": {
      "text/html": [
       "<div>\n",
       "<style scoped>\n",
       "    .dataframe tbody tr th:only-of-type {\n",
       "        vertical-align: middle;\n",
       "    }\n",
       "\n",
       "    .dataframe tbody tr th {\n",
       "        vertical-align: top;\n",
       "    }\n",
       "\n",
       "    .dataframe thead th {\n",
       "        text-align: right;\n",
       "    }\n",
       "</style>\n",
       "<table border=\"1\" class=\"dataframe\">\n",
       "  <thead>\n",
       "    <tr style=\"text-align: right;\">\n",
       "      <th></th>\n",
       "      <th>Timestamp</th>\n",
       "      <th>Product_Name</th>\n",
       "      <th>Retail_Price</th>\n",
       "      <th>Discounted_Price</th>\n",
       "      <th>Brand</th>\n",
       "      <th>Category</th>\n",
       "    </tr>\n",
       "  </thead>\n",
       "  <tbody>\n",
       "    <tr>\n",
       "      <th>0</th>\n",
       "      <td>2016-03-25 22:59:23</td>\n",
       "      <td>Alisha Solid Women's Cycling Shorts</td>\n",
       "      <td>999.0</td>\n",
       "      <td>379.0</td>\n",
       "      <td>Alisha</td>\n",
       "      <td>Clothing</td>\n",
       "    </tr>\n",
       "    <tr>\n",
       "      <th>1</th>\n",
       "      <td>2016-03-25 22:59:23</td>\n",
       "      <td>FabHomeDecor Fabric Double Sofa Bed</td>\n",
       "      <td>32157.0</td>\n",
       "      <td>22646.0</td>\n",
       "      <td>FabHomeDecor</td>\n",
       "      <td>Furniture</td>\n",
       "    </tr>\n",
       "    <tr>\n",
       "      <th>2</th>\n",
       "      <td>2016-03-25 22:59:23</td>\n",
       "      <td>AW Bellies</td>\n",
       "      <td>999.0</td>\n",
       "      <td>499.0</td>\n",
       "      <td>AW</td>\n",
       "      <td>Footwear</td>\n",
       "    </tr>\n",
       "    <tr>\n",
       "      <th>3</th>\n",
       "      <td>2016-03-25 22:59:23</td>\n",
       "      <td>Alisha Solid Women's Cycling Shorts</td>\n",
       "      <td>699.0</td>\n",
       "      <td>267.0</td>\n",
       "      <td>Alisha</td>\n",
       "      <td>Clothing</td>\n",
       "    </tr>\n",
       "    <tr>\n",
       "      <th>4</th>\n",
       "      <td>2016-03-25 22:59:23</td>\n",
       "      <td>Sicons All Purpose Arnica Dog Shampoo</td>\n",
       "      <td>220.0</td>\n",
       "      <td>210.0</td>\n",
       "      <td>Sicons</td>\n",
       "      <td>Pet Supplies</td>\n",
       "    </tr>\n",
       "  </tbody>\n",
       "</table>\n",
       "</div>"
      ],
      "text/plain": [
       "             Timestamp                           Product_Name  Retail_Price  \\\n",
       "0  2016-03-25 22:59:23    Alisha Solid Women's Cycling Shorts         999.0   \n",
       "1  2016-03-25 22:59:23    FabHomeDecor Fabric Double Sofa Bed       32157.0   \n",
       "2  2016-03-25 22:59:23                             AW Bellies         999.0   \n",
       "3  2016-03-25 22:59:23    Alisha Solid Women's Cycling Shorts         699.0   \n",
       "4  2016-03-25 22:59:23  Sicons All Purpose Arnica Dog Shampoo         220.0   \n",
       "\n",
       "   Discounted_Price         Brand       Category  \n",
       "0             379.0        Alisha      Clothing   \n",
       "1           22646.0  FabHomeDecor     Furniture   \n",
       "2             499.0            AW      Footwear   \n",
       "3             267.0        Alisha      Clothing   \n",
       "4             210.0        Sicons  Pet Supplies   "
      ]
     },
     "execution_count": 161,
     "metadata": {},
     "output_type": "execute_result"
    }
   ],
   "source": [
    "flipkart_data.head()"
   ]
  },
  {
   "cell_type": "markdown",
   "metadata": {},
   "source": [
    "#### So finally our dataset is clean and organized. So save it as CSV file for future use!"
   ]
  },
  {
   "cell_type": "markdown",
   "metadata": {},
   "source": [
    "#### Read in updated dataframe"
   ]
  },
  {
   "cell_type": "code",
   "execution_count": 140,
   "metadata": {},
   "outputs": [],
   "source": [
    "# Save the data as csv file\n",
    "flipkart_data.to_csv('fkartDataset.csv', index=False)"
   ]
  },
  {
   "cell_type": "code",
   "execution_count": 141,
   "metadata": {},
   "outputs": [],
   "source": [
    "flkart_data = pd.read_csv('ecom_Dataset.csv')"
   ]
  },
  {
   "cell_type": "code",
   "execution_count": 142,
   "metadata": {},
   "outputs": [
    {
     "data": {
      "text/html": [
       "<div>\n",
       "<style scoped>\n",
       "    .dataframe tbody tr th:only-of-type {\n",
       "        vertical-align: middle;\n",
       "    }\n",
       "\n",
       "    .dataframe tbody tr th {\n",
       "        vertical-align: top;\n",
       "    }\n",
       "\n",
       "    .dataframe thead th {\n",
       "        text-align: right;\n",
       "    }\n",
       "</style>\n",
       "<table border=\"1\" class=\"dataframe\">\n",
       "  <thead>\n",
       "    <tr style=\"text-align: right;\">\n",
       "      <th></th>\n",
       "      <th>Timestamp</th>\n",
       "      <th>Product_Name</th>\n",
       "      <th>Retail_Price</th>\n",
       "      <th>Discounted_Price</th>\n",
       "      <th>Brand</th>\n",
       "      <th>Category</th>\n",
       "    </tr>\n",
       "  </thead>\n",
       "  <tbody>\n",
       "    <tr>\n",
       "      <th>0</th>\n",
       "      <td>2016-03-25 22:59:23</td>\n",
       "      <td>Alisha Solid Women's Cycling Shorts</td>\n",
       "      <td>999.0</td>\n",
       "      <td>379.0</td>\n",
       "      <td>Alisha</td>\n",
       "      <td>Clothing</td>\n",
       "    </tr>\n",
       "    <tr>\n",
       "      <th>1</th>\n",
       "      <td>2016-03-25 22:59:23</td>\n",
       "      <td>FabHomeDecor Fabric Double Sofa Bed</td>\n",
       "      <td>32157.0</td>\n",
       "      <td>22646.0</td>\n",
       "      <td>FabHomeDecor</td>\n",
       "      <td>Furniture</td>\n",
       "    </tr>\n",
       "    <tr>\n",
       "      <th>2</th>\n",
       "      <td>2016-03-25 22:59:23</td>\n",
       "      <td>AW Bellies</td>\n",
       "      <td>999.0</td>\n",
       "      <td>499.0</td>\n",
       "      <td>AW</td>\n",
       "      <td>Footwear</td>\n",
       "    </tr>\n",
       "    <tr>\n",
       "      <th>3</th>\n",
       "      <td>2016-03-25 22:59:23</td>\n",
       "      <td>Alisha Solid Women's Cycling Shorts</td>\n",
       "      <td>699.0</td>\n",
       "      <td>267.0</td>\n",
       "      <td>Alisha</td>\n",
       "      <td>Clothing</td>\n",
       "    </tr>\n",
       "    <tr>\n",
       "      <th>4</th>\n",
       "      <td>2016-03-25 22:59:23</td>\n",
       "      <td>Sicons All Purpose Arnica Dog Shampoo</td>\n",
       "      <td>220.0</td>\n",
       "      <td>210.0</td>\n",
       "      <td>Sicons</td>\n",
       "      <td>Pet Supplies</td>\n",
       "    </tr>\n",
       "  </tbody>\n",
       "</table>\n",
       "</div>"
      ],
      "text/plain": [
       "             Timestamp                           Product_Name  Retail_Price  \\\n",
       "0  2016-03-25 22:59:23    Alisha Solid Women's Cycling Shorts         999.0   \n",
       "1  2016-03-25 22:59:23    FabHomeDecor Fabric Double Sofa Bed       32157.0   \n",
       "2  2016-03-25 22:59:23                             AW Bellies         999.0   \n",
       "3  2016-03-25 22:59:23    Alisha Solid Women's Cycling Shorts         699.0   \n",
       "4  2016-03-25 22:59:23  Sicons All Purpose Arnica Dog Shampoo         220.0   \n",
       "\n",
       "   Discounted_Price         Brand       Category  \n",
       "0             379.0        Alisha      Clothing   \n",
       "1           22646.0  FabHomeDecor     Furniture   \n",
       "2             499.0            AW      Footwear   \n",
       "3             267.0        Alisha      Clothing   \n",
       "4             210.0        Sicons  Pet Supplies   "
      ]
     },
     "execution_count": 142,
     "metadata": {},
     "output_type": "execute_result"
    }
   ],
   "source": [
    "flkart_data.head()"
   ]
  },
  {
   "cell_type": "markdown",
   "metadata": {},
   "source": [
    "#### Clean up the missing value"
   ]
  },
  {
   "cell_type": "code",
   "execution_count": 143,
   "metadata": {},
   "outputs": [
    {
     "data": {
      "text/plain": [
       "Timestamp           0\n",
       "Product_Name        0\n",
       "Retail_Price        0\n",
       "Discounted_Price    0\n",
       "Brand               0\n",
       "Category            0\n",
       "dtype: int64"
      ]
     },
     "execution_count": 143,
     "metadata": {},
     "output_type": "execute_result"
    }
   ],
   "source": [
    "flkart_data.isnull().sum()"
   ]
  },
  {
   "cell_type": "markdown",
   "metadata": {},
   "source": [
    "#### We don't have any missing value"
   ]
  },
  {
   "cell_type": "markdown",
   "metadata": {},
   "source": [
    "####  Question about this Dataset\n",
    "\n",
    "##### 1. What was the best month for sales? How much was earned that months?\n",
    "##### 2. What time should we display advertisements to maximize the likelihood of purchases? \n",
    "##### 3. Which category sold most in that six month period?\n",
    "##### 4. Top 10 product sold most in that six month period?\n",
    "\n",
    "**************************************************************************************"
   ]
  },
  {
   "cell_type": "markdown",
   "metadata": {},
   "source": [
    "#### 1. What was the best month for sales? How much was earned that months?"
   ]
  },
  {
   "cell_type": "markdown",
   "metadata": {},
   "source": [
    "So We can observe that we have a Timestamp Column but as per the Question We need months column, So we have the extract months from timestamp"
   ]
  },
  {
   "cell_type": "code",
   "execution_count": 149,
   "metadata": {},
   "outputs": [
    {
     "data": {
      "text/html": [
       "<div>\n",
       "<style scoped>\n",
       "    .dataframe tbody tr th:only-of-type {\n",
       "        vertical-align: middle;\n",
       "    }\n",
       "\n",
       "    .dataframe tbody tr th {\n",
       "        vertical-align: top;\n",
       "    }\n",
       "\n",
       "    .dataframe thead th {\n",
       "        text-align: right;\n",
       "    }\n",
       "</style>\n",
       "<table border=\"1\" class=\"dataframe\">\n",
       "  <thead>\n",
       "    <tr style=\"text-align: right;\">\n",
       "      <th></th>\n",
       "      <th>Timestamp</th>\n",
       "      <th>Product_Name</th>\n",
       "      <th>Retail_Price</th>\n",
       "      <th>Discounted_Price</th>\n",
       "      <th>Brand</th>\n",
       "      <th>Category</th>\n",
       "      <th>Month</th>\n",
       "    </tr>\n",
       "  </thead>\n",
       "  <tbody>\n",
       "    <tr>\n",
       "      <th>0</th>\n",
       "      <td>2016-03-25 22:59:23</td>\n",
       "      <td>Alisha Solid Women's Cycling Shorts</td>\n",
       "      <td>999.0</td>\n",
       "      <td>379.0</td>\n",
       "      <td>Alisha</td>\n",
       "      <td>Clothing</td>\n",
       "      <td>3</td>\n",
       "    </tr>\n",
       "    <tr>\n",
       "      <th>1</th>\n",
       "      <td>2016-03-25 22:59:23</td>\n",
       "      <td>FabHomeDecor Fabric Double Sofa Bed</td>\n",
       "      <td>32157.0</td>\n",
       "      <td>22646.0</td>\n",
       "      <td>FabHomeDecor</td>\n",
       "      <td>Furniture</td>\n",
       "      <td>3</td>\n",
       "    </tr>\n",
       "    <tr>\n",
       "      <th>2</th>\n",
       "      <td>2016-03-25 22:59:23</td>\n",
       "      <td>AW Bellies</td>\n",
       "      <td>999.0</td>\n",
       "      <td>499.0</td>\n",
       "      <td>AW</td>\n",
       "      <td>Footwear</td>\n",
       "      <td>3</td>\n",
       "    </tr>\n",
       "    <tr>\n",
       "      <th>3</th>\n",
       "      <td>2016-03-25 22:59:23</td>\n",
       "      <td>Alisha Solid Women's Cycling Shorts</td>\n",
       "      <td>699.0</td>\n",
       "      <td>267.0</td>\n",
       "      <td>Alisha</td>\n",
       "      <td>Clothing</td>\n",
       "      <td>3</td>\n",
       "    </tr>\n",
       "    <tr>\n",
       "      <th>4</th>\n",
       "      <td>2016-03-25 22:59:23</td>\n",
       "      <td>Sicons All Purpose Arnica Dog Shampoo</td>\n",
       "      <td>220.0</td>\n",
       "      <td>210.0</td>\n",
       "      <td>Sicons</td>\n",
       "      <td>Pet Supplies</td>\n",
       "      <td>3</td>\n",
       "    </tr>\n",
       "  </tbody>\n",
       "</table>\n",
       "</div>"
      ],
      "text/plain": [
       "             Timestamp                           Product_Name  Retail_Price  \\\n",
       "0  2016-03-25 22:59:23    Alisha Solid Women's Cycling Shorts         999.0   \n",
       "1  2016-03-25 22:59:23    FabHomeDecor Fabric Double Sofa Bed       32157.0   \n",
       "2  2016-03-25 22:59:23                             AW Bellies         999.0   \n",
       "3  2016-03-25 22:59:23    Alisha Solid Women's Cycling Shorts         699.0   \n",
       "4  2016-03-25 22:59:23  Sicons All Purpose Arnica Dog Shampoo         220.0   \n",
       "\n",
       "   Discounted_Price         Brand       Category  Month  \n",
       "0             379.0        Alisha      Clothing       3  \n",
       "1           22646.0  FabHomeDecor     Furniture       3  \n",
       "2             499.0            AW      Footwear       3  \n",
       "3             267.0        Alisha      Clothing       3  \n",
       "4             210.0        Sicons  Pet Supplies       3  "
      ]
     },
     "execution_count": 149,
     "metadata": {},
     "output_type": "execute_result"
    }
   ],
   "source": [
    "#Adding the month column\n",
    "flkart_data['Month'] = pd.to_numeric(pd.DatetimeIndex(flkart_data['Timestamp']).month)\n",
    "flkart_data.head()"
   ]
  },
  {
   "cell_type": "code",
   "execution_count": 150,
   "metadata": {},
   "outputs": [
    {
     "data": {
      "text/html": [
       "<div>\n",
       "<style scoped>\n",
       "    .dataframe tbody tr th:only-of-type {\n",
       "        vertical-align: middle;\n",
       "    }\n",
       "\n",
       "    .dataframe tbody tr th {\n",
       "        vertical-align: top;\n",
       "    }\n",
       "\n",
       "    .dataframe thead th {\n",
       "        text-align: right;\n",
       "    }\n",
       "</style>\n",
       "<table border=\"1\" class=\"dataframe\">\n",
       "  <thead>\n",
       "    <tr style=\"text-align: right;\">\n",
       "      <th></th>\n",
       "      <th>Retail_Price</th>\n",
       "      <th>Discounted_Price</th>\n",
       "    </tr>\n",
       "    <tr>\n",
       "      <th>Month</th>\n",
       "      <th></th>\n",
       "      <th></th>\n",
       "    </tr>\n",
       "  </thead>\n",
       "  <tbody>\n",
       "    <tr>\n",
       "      <th>1</th>\n",
       "      <td>27306704.0</td>\n",
       "      <td>20047084.0</td>\n",
       "    </tr>\n",
       "    <tr>\n",
       "      <th>2</th>\n",
       "      <td>435315.0</td>\n",
       "      <td>264539.0</td>\n",
       "    </tr>\n",
       "    <tr>\n",
       "      <th>3</th>\n",
       "      <td>4141993.0</td>\n",
       "      <td>2507724.0</td>\n",
       "    </tr>\n",
       "    <tr>\n",
       "      <th>4</th>\n",
       "      <td>2224576.0</td>\n",
       "      <td>1391281.0</td>\n",
       "    </tr>\n",
       "    <tr>\n",
       "      <th>5</th>\n",
       "      <td>1181959.0</td>\n",
       "      <td>704162.0</td>\n",
       "    </tr>\n",
       "    <tr>\n",
       "      <th>6</th>\n",
       "      <td>1822710.0</td>\n",
       "      <td>938434.0</td>\n",
       "    </tr>\n",
       "  </tbody>\n",
       "</table>\n",
       "</div>"
      ],
      "text/plain": [
       "       Retail_Price  Discounted_Price\n",
       "Month                                \n",
       "1        27306704.0        20047084.0\n",
       "2          435315.0          264539.0\n",
       "3         4141993.0         2507724.0\n",
       "4         2224576.0         1391281.0\n",
       "5         1181959.0          704162.0\n",
       "6         1822710.0          938434.0"
      ]
     },
     "execution_count": 150,
     "metadata": {},
     "output_type": "execute_result"
    }
   ],
   "source": [
    "totalsum = flkart_data.groupby('Month').sum()\n",
    "totalsum "
   ]
  },
  {
   "cell_type": "code",
   "execution_count": 151,
   "metadata": {},
   "outputs": [
    {
     "data": {
      "image/png": "[encoded data removed]",
      "text/plain": [
       "<Figure size 432x288 with 1 Axes>"
      ]
     },
     "metadata": {
      "needs_background": "light"
     },
     "output_type": "display_data"
    }
   ],
   "source": [
    "months = range(1, 7)\n",
    "plt.bar(months, totalsum['Discounted_Price'])\n",
    "plt.xticks(months)\n",
    "plt.xlabel(\"Months\")\n",
    "plt.ylabel('Sales in INR')\n",
    "plt.show()"
   ]
  },
  {
   "cell_type": "markdown",
   "metadata": {},
   "source": [
    "#### So January month is having more sales. May be due to new year eve####"
   ]
  },
  {
   "cell_type": "markdown",
   "metadata": {},
   "source": [
    "#### 2.What time should we display advertisements to maximize the likelihood of purchases?"
   ]
  },
  {
   "cell_type": "code",
   "execution_count": 152,
   "metadata": {},
   "outputs": [],
   "source": [
    "flkart_data['Timestamp'] = pd.to_datetime(flkart_data['Timestamp'])"
   ]
  },
  {
   "cell_type": "code",
   "execution_count": 153,
   "metadata": {},
   "outputs": [
    {
     "data": {
      "text/html": [
       "<div>\n",
       "<style scoped>\n",
       "    .dataframe tbody tr th:only-of-type {\n",
       "        vertical-align: middle;\n",
       "    }\n",
       "\n",
       "    .dataframe tbody tr th {\n",
       "        vertical-align: top;\n",
       "    }\n",
       "\n",
       "    .dataframe thead th {\n",
       "        text-align: right;\n",
       "    }\n",
       "</style>\n",
       "<table border=\"1\" class=\"dataframe\">\n",
       "  <thead>\n",
       "    <tr style=\"text-align: right;\">\n",
       "      <th></th>\n",
       "      <th>Timestamp</th>\n",
       "      <th>Product_Name</th>\n",
       "      <th>Retail_Price</th>\n",
       "      <th>Discounted_Price</th>\n",
       "      <th>Brand</th>\n",
       "      <th>Category</th>\n",
       "      <th>Month</th>\n",
       "    </tr>\n",
       "  </thead>\n",
       "  <tbody>\n",
       "    <tr>\n",
       "      <th>0</th>\n",
       "      <td>2016-03-25 22:59:23</td>\n",
       "      <td>Alisha Solid Women's Cycling Shorts</td>\n",
       "      <td>999.0</td>\n",
       "      <td>379.0</td>\n",
       "      <td>Alisha</td>\n",
       "      <td>Clothing</td>\n",
       "      <td>3</td>\n",
       "    </tr>\n",
       "    <tr>\n",
       "      <th>1</th>\n",
       "      <td>2016-03-25 22:59:23</td>\n",
       "      <td>FabHomeDecor Fabric Double Sofa Bed</td>\n",
       "      <td>32157.0</td>\n",
       "      <td>22646.0</td>\n",
       "      <td>FabHomeDecor</td>\n",
       "      <td>Furniture</td>\n",
       "      <td>3</td>\n",
       "    </tr>\n",
       "    <tr>\n",
       "      <th>2</th>\n",
       "      <td>2016-03-25 22:59:23</td>\n",
       "      <td>AW Bellies</td>\n",
       "      <td>999.0</td>\n",
       "      <td>499.0</td>\n",
       "      <td>AW</td>\n",
       "      <td>Footwear</td>\n",
       "      <td>3</td>\n",
       "    </tr>\n",
       "    <tr>\n",
       "      <th>3</th>\n",
       "      <td>2016-03-25 22:59:23</td>\n",
       "      <td>Alisha Solid Women's Cycling Shorts</td>\n",
       "      <td>699.0</td>\n",
       "      <td>267.0</td>\n",
       "      <td>Alisha</td>\n",
       "      <td>Clothing</td>\n",
       "      <td>3</td>\n",
       "    </tr>\n",
       "    <tr>\n",
       "      <th>4</th>\n",
       "      <td>2016-03-25 22:59:23</td>\n",
       "      <td>Sicons All Purpose Arnica Dog Shampoo</td>\n",
       "      <td>220.0</td>\n",
       "      <td>210.0</td>\n",
       "      <td>Sicons</td>\n",
       "      <td>Pet Supplies</td>\n",
       "      <td>3</td>\n",
       "    </tr>\n",
       "  </tbody>\n",
       "</table>\n",
       "</div>"
      ],
      "text/plain": [
       "            Timestamp                           Product_Name  Retail_Price  \\\n",
       "0 2016-03-25 22:59:23    Alisha Solid Women's Cycling Shorts         999.0   \n",
       "1 2016-03-25 22:59:23    FabHomeDecor Fabric Double Sofa Bed       32157.0   \n",
       "2 2016-03-25 22:59:23                             AW Bellies         999.0   \n",
       "3 2016-03-25 22:59:23    Alisha Solid Women's Cycling Shorts         699.0   \n",
       "4 2016-03-25 22:59:23  Sicons All Purpose Arnica Dog Shampoo         220.0   \n",
       "\n",
       "   Discounted_Price         Brand       Category  Month  \n",
       "0             379.0        Alisha      Clothing       3  \n",
       "1           22646.0  FabHomeDecor     Furniture       3  \n",
       "2             499.0            AW      Footwear       3  \n",
       "3             267.0        Alisha      Clothing       3  \n",
       "4             210.0        Sicons  Pet Supplies       3  "
      ]
     },
     "execution_count": 153,
     "metadata": {},
     "output_type": "execute_result"
    }
   ],
   "source": [
    "flkart_data.head()"
   ]
  },
  {
   "cell_type": "code",
   "execution_count": 154,
   "metadata": {},
   "outputs": [],
   "source": [
    "flkart_data['Hour'] = flkart_data['Timestamp'].dt.hour\n",
    "flkart_data['Minute'] = flkart_data['Timestamp'].dt.minute"
   ]
  },
  {
   "cell_type": "code",
   "execution_count": 155,
   "metadata": {},
   "outputs": [
    {
     "data": {
      "text/html": [
       "<div>\n",
       "<style scoped>\n",
       "    .dataframe tbody tr th:only-of-type {\n",
       "        vertical-align: middle;\n",
       "    }\n",
       "\n",
       "    .dataframe tbody tr th {\n",
       "        vertical-align: top;\n",
       "    }\n",
       "\n",
       "    .dataframe thead th {\n",
       "        text-align: right;\n",
       "    }\n",
       "</style>\n",
       "<table border=\"1\" class=\"dataframe\">\n",
       "  <thead>\n",
       "    <tr style=\"text-align: right;\">\n",
       "      <th></th>\n",
       "      <th>Timestamp</th>\n",
       "      <th>Product_Name</th>\n",
       "      <th>Retail_Price</th>\n",
       "      <th>Discounted_Price</th>\n",
       "      <th>Brand</th>\n",
       "      <th>Category</th>\n",
       "      <th>Month</th>\n",
       "      <th>Hour</th>\n",
       "      <th>Minute</th>\n",
       "    </tr>\n",
       "  </thead>\n",
       "  <tbody>\n",
       "    <tr>\n",
       "      <th>0</th>\n",
       "      <td>2016-03-25 22:59:23</td>\n",
       "      <td>Alisha Solid Women's Cycling Shorts</td>\n",
       "      <td>999.0</td>\n",
       "      <td>379.0</td>\n",
       "      <td>Alisha</td>\n",
       "      <td>Clothing</td>\n",
       "      <td>3</td>\n",
       "      <td>22</td>\n",
       "      <td>59</td>\n",
       "    </tr>\n",
       "    <tr>\n",
       "      <th>1</th>\n",
       "      <td>2016-03-25 22:59:23</td>\n",
       "      <td>FabHomeDecor Fabric Double Sofa Bed</td>\n",
       "      <td>32157.0</td>\n",
       "      <td>22646.0</td>\n",
       "      <td>FabHomeDecor</td>\n",
       "      <td>Furniture</td>\n",
       "      <td>3</td>\n",
       "      <td>22</td>\n",
       "      <td>59</td>\n",
       "    </tr>\n",
       "    <tr>\n",
       "      <th>2</th>\n",
       "      <td>2016-03-25 22:59:23</td>\n",
       "      <td>AW Bellies</td>\n",
       "      <td>999.0</td>\n",
       "      <td>499.0</td>\n",
       "      <td>AW</td>\n",
       "      <td>Footwear</td>\n",
       "      <td>3</td>\n",
       "      <td>22</td>\n",
       "      <td>59</td>\n",
       "    </tr>\n",
       "    <tr>\n",
       "      <th>3</th>\n",
       "      <td>2016-03-25 22:59:23</td>\n",
       "      <td>Alisha Solid Women's Cycling Shorts</td>\n",
       "      <td>699.0</td>\n",
       "      <td>267.0</td>\n",
       "      <td>Alisha</td>\n",
       "      <td>Clothing</td>\n",
       "      <td>3</td>\n",
       "      <td>22</td>\n",
       "      <td>59</td>\n",
       "    </tr>\n",
       "    <tr>\n",
       "      <th>4</th>\n",
       "      <td>2016-03-25 22:59:23</td>\n",
       "      <td>Sicons All Purpose Arnica Dog Shampoo</td>\n",
       "      <td>220.0</td>\n",
       "      <td>210.0</td>\n",
       "      <td>Sicons</td>\n",
       "      <td>Pet Supplies</td>\n",
       "      <td>3</td>\n",
       "      <td>22</td>\n",
       "      <td>59</td>\n",
       "    </tr>\n",
       "  </tbody>\n",
       "</table>\n",
       "</div>"
      ],
      "text/plain": [
       "            Timestamp                           Product_Name  Retail_Price  \\\n",
       "0 2016-03-25 22:59:23    Alisha Solid Women's Cycling Shorts         999.0   \n",
       "1 2016-03-25 22:59:23    FabHomeDecor Fabric Double Sofa Bed       32157.0   \n",
       "2 2016-03-25 22:59:23                             AW Bellies         999.0   \n",
       "3 2016-03-25 22:59:23    Alisha Solid Women's Cycling Shorts         699.0   \n",
       "4 2016-03-25 22:59:23  Sicons All Purpose Arnica Dog Shampoo         220.0   \n",
       "\n",
       "   Discounted_Price         Brand       Category  Month  Hour  Minute  \n",
       "0             379.0        Alisha      Clothing       3    22      59  \n",
       "1           22646.0  FabHomeDecor     Furniture       3    22      59  \n",
       "2             499.0            AW      Footwear       3    22      59  \n",
       "3             267.0        Alisha      Clothing       3    22      59  \n",
       "4             210.0        Sicons  Pet Supplies       3    22      59  "
      ]
     },
     "execution_count": 155,
     "metadata": {},
     "output_type": "execute_result"
    }
   ],
   "source": [
    "flkart_data.head()"
   ]
  },
  {
   "cell_type": "code",
   "execution_count": 156,
   "metadata": {},
   "outputs": [
    {
     "data": {
      "image/png": "[encoded data removed]",
      "text/plain": [
       "<Figure size 432x288 with 1 Axes>"
      ]
     },
     "metadata": {
      "needs_background": "light"
     },
     "output_type": "display_data"
    }
   ],
   "source": [
    "hours = [hour for hour, df in flkart_data.groupby('Hour')]\n",
    "\n",
    "plt.plot(hours, flkart_data.groupby(['Hour']).count())\n",
    "plt.xticks(hours)\n",
    "plt.xlabel('Hour')\n",
    "plt.ylabel('Number of Orders')\n",
    "plt.grid()\n",
    "plt.show()"
   ]
  },
  {
   "cell_type": "markdown",
   "metadata": {},
   "source": [
    "##### So we can conclude that morning and evening are the perfect time to displaying advertisements"
   ]
  },
  {
   "cell_type": "markdown",
   "metadata": {},
   "source": [
    "#### 3. Which category sold most in that six month period?"
   ]
  },
  {
   "cell_type": "code",
   "execution_count": 157,
   "metadata": {},
   "outputs": [],
   "source": [
    "# So our target is to look after duplicates rows\n",
    "dups_category = flkart_data.pivot_table(index=['Category'], aggfunc='size')"
   ]
  },
  {
   "cell_type": "code",
   "execution_count": 158,
   "metadata": {},
   "outputs": [
    {
     "name": "stdout",
     "output_type": "stream",
     "text": [
      "Category\n",
      "Clothing                       2516\n",
      "Jewellery                      1128\n",
      "Mobiles & Accessories           698\n",
      "Home Decor & Festive Needs      458\n",
      "Footwear                        387\n",
      "Tools & Hardware                359\n",
      "dtype: int64\n"
     ]
    },
    {
     "data": {
      "image/png": "[encoded data removed]",
      "text/plain": [
       "<Figure size 432x288 with 1 Axes>"
      ]
     },
     "metadata": {
      "needs_background": "light"
     },
     "output_type": "display_data"
    }
   ],
   "source": [
    "print(dups_category.nlargest(6))\n",
    "\n",
    "x =list(range(1,7))\n",
    "\n",
    "fig, ax = plt.subplots()\n",
    "bar = sns.barplot(data=flkart_data, x=x , y=dups_category.nlargest(6), edgecolor=\"white\")\n",
    "ax.set_xticklabels([\"Clothes\", \"Jewel\", 'Mobile&Accessories', 'Home Decor', 'Footwear', 'Tools&Hardware'], rotation=90)\n",
    "plt.show();"
   ]
  },
  {
   "cell_type": "markdown",
   "metadata": {},
   "source": [
    "#### So obviously Clothings and Jewellery are the top categories to sold most."
   ]
  },
  {
   "cell_type": "markdown",
   "metadata": {},
   "source": [
    "#### 4. Top 10 product sold most in that six month period?"
   ]
  },
  {
   "cell_type": "code",
   "execution_count": 159,
   "metadata": {},
   "outputs": [
    {
     "name": "stdout",
     "output_type": "stream",
     "text": [
      "Product_Name\n",
      "S4S Stylish Women's Push-up Bra                                     94\n",
      "DailyObjects Back Cover for Apple iPad 2/3/4                        52\n",
      "S4S Comfortable Women's Full Coverage Bra                           45\n",
      "Grafion by Grafion - Comfort Feel Women's Full Coverage Bra         44\n",
      "DailyObjects Back Cover for Apple iPad Mini/Retina Display          42\n",
      "First Smart Deal Plant Container Set                                42\n",
      "Grafion Comfortable Women's Full Coverage Bra                       40\n",
      "Enthopia Back Cover for iPad Mini, iPad Mini 2, iPad Mini Retina    39\n",
      "DailyObjects Back Cover for Apple iPad 2, 3, 4                      36\n",
      "Fuson Back Cover for Samsung Galaxy J7                              33\n",
      "dtype: int64\n"
     ]
    },
    {
     "data": {
      "image/png": "[encoded data removed]",
      "text/plain": [
       "<Figure size 432x288 with 1 Axes>"
      ]
     },
     "metadata": {
      "needs_background": "light"
     },
     "output_type": "display_data"
    }
   ],
   "source": [
    "# So our target is to look after duplicates rows\n",
    "dups_product = flkart_data.pivot_table(index=['Product_Name'], aggfunc='size')\n",
    "\n",
    "print(dups_product.nlargest(10))\n",
    "items = range(10)\n",
    "\n",
    "x =list(range(1,11))\n",
    "fig, ax = plt.subplots()\n",
    "bar = sns.barplot(data=flkart_data, x=x , y=dups_category.nlargest(10), edgecolor=\"white\")\n",
    "plt.show();\n"
   ]
  },
  {
   "cell_type": "markdown",
   "metadata": {},
   "source": [
    "#### Here are the top 10 products available respectively"
   ]
  },
  {
   "cell_type": "code",
   "execution_count": null,
   "metadata": {},
   "outputs": [],
   "source": []
  },
  {
   "cell_type": "code",
   "execution_count": null,
   "metadata": {},
   "outputs": [],
   "source": []
  }
 ],
 "metadata": {
  "kernelspec": {
   "display_name": "Python 3",
   "language": "python",
   "name": "python3"
  },
  "language_info": {
   "codemirror_mode": {
    "name": "ipython",
    "version": 3
   },
   "file_extension": ".py",
   "mimetype": "text/x-python",
   "name": "python",
   "nbconvert_exporter": "python",
   "pygments_lexer": "ipython3",
   "version": "3.8.3"
  }
 },
 "nbformat": 4,
 "nbformat_minor": 4
}
